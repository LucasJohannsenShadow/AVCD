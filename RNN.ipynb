{
 "cells": [
  {
   "cell_type": "code",
   "execution_count": 1,
   "metadata": {},
   "outputs": [],
   "source": [
    "from keras.models import Sequential\n",
    "from keras.layers import Dense\n"
   ]
  },
  {
   "cell_type": "code",
   "execution_count": 2,
   "metadata": {},
   "outputs": [],
   "source": [
    "import pandas as pd\n",
    "data = pd.read_csv(\"data/file.csv\", encoding='latin-1')\n",
    "data = data[data[\"Unit_x\"] == \"tonnes\"]\n",
    "data = data.drop(\"Domain\", axis= 1)\n",
    "data = data.drop(\"Unit_y\", axis= 1)\n",
    "data = data.drop(\"Item_x\", axis=1)\n",
    "\n",
    "from sklearn.preprocessing import OneHotEncoder\n",
    "yield_df_onehot = pd.get_dummies(data, columns=['Area',\"Unit_x\", \"Element_x\",\"Element_y\",\"Item_y\"], prefix = ['Area', \"Unit_x\",\"Element_x\",\"Element_y\" ,\"Item_y\"])"
   ]
  },
  {
   "cell_type": "code",
   "execution_count": 3,
   "metadata": {},
   "outputs": [
    {
     "ename": "NameError",
     "evalue": "name 'Embedding' is not defined",
     "output_type": "error",
     "traceback": [
      "\u001b[1;31m---------------------------------------------------------------------------\u001b[0m",
      "\u001b[1;31mNameError\u001b[0m                                 Traceback (most recent call last)",
      "Cell \u001b[1;32mIn[3], line 5\u001b[0m\n\u001b[0;32m      1\u001b[0m model \u001b[39m=\u001b[39m Sequential()\n\u001b[0;32m      3\u001b[0m \u001b[39m# Embedding layer\u001b[39;00m\n\u001b[0;32m      4\u001b[0m model\u001b[39m.\u001b[39madd(\n\u001b[1;32m----> 5\u001b[0m     Embedding(input_dim\u001b[39m=\u001b[39mnum_words,\n\u001b[0;32m      6\u001b[0m               input_length \u001b[39m=\u001b[39m training_length,\n\u001b[0;32m      7\u001b[0m               output_dim\u001b[39m=\u001b[39m\u001b[39m100\u001b[39m,\n\u001b[0;32m      8\u001b[0m               weights\u001b[39m=\u001b[39m[embedding_matrix],\n\u001b[0;32m      9\u001b[0m               trainable\u001b[39m=\u001b[39m\u001b[39mFalse\u001b[39;00m,\n\u001b[0;32m     10\u001b[0m               mask_zero\u001b[39m=\u001b[39m\u001b[39mTrue\u001b[39;00m))\n\u001b[0;32m     12\u001b[0m \u001b[39m# Masking layer for pre-trained embeddings\u001b[39;00m\n\u001b[0;32m     13\u001b[0m model\u001b[39m.\u001b[39madd(Masking(mask_value\u001b[39m=\u001b[39m\u001b[39m0.0\u001b[39m))\n",
      "\u001b[1;31mNameError\u001b[0m: name 'Embedding' is not defined"
     ]
    }
   ],
   "source": [
    "model = Sequential()\n",
    "\n",
    "# Embedding layer\n",
    "model.add(\n",
    "    Embedding(input_dim=num_words,\n",
    "              input_length = training_length,\n",
    "              output_dim=100,\n",
    "              weights=[embedding_matrix],\n",
    "              trainable=False,\n",
    "              mask_zero=True))\n",
    "\n",
    "# Masking layer for pre-trained embeddings\n",
    "model.add(Masking(mask_value=0.0))\n",
    "\n",
    "# Recurrent layer\n",
    "model.add(LSTM(64, return_sequences=False, \n",
    "               dropout=0.1, recurrent_dropout=0.1))\n",
    "\n",
    "# Fully connected layer\n",
    "model.add(Dense(64, activation='relu'))\n",
    "\n",
    "# Dropout for regularization\n",
    "model.add(Dropout(0.5))\n",
    "\n",
    "# Output layer\n",
    "model.add(Dense(num_words, activation='softmax'))\n",
    "\n",
    "# Compile the model\n",
    "model.compile(\n",
    "    optimizer='adam', loss='categorical_crossentropy', metrics=['accuracy'])\n"
   ]
  },
  {
   "cell_type": "code",
   "execution_count": null,
   "metadata": {},
   "outputs": [],
   "source": [
    "model.fit(X_train, y_train, batch_size=32, epochs=10, validation_data=(X_val, y_val))\n"
   ]
  },
  {
   "cell_type": "code",
   "execution_count": null,
   "metadata": {},
   "outputs": [],
   "source": [
    "loss, accuracy = model.evaluate(X_test, y_test)\n",
    "print(\"Test Loss:\", loss)\n",
    "print(\"Test Accuracy:\", accuracy)\n"
   ]
  },
  {
   "cell_type": "code",
   "execution_count": null,
   "metadata": {},
   "outputs": [],
   "source": [
    "predictions = model.predict(X_new)\n"
   ]
  }
 ],
 "metadata": {
  "kernelspec": {
   "display_name": "Pythonuse",
   "language": "python",
   "name": "python3"
  },
  "language_info": {
   "codemirror_mode": {
    "name": "ipython",
    "version": 3
   },
   "file_extension": ".py",
   "mimetype": "text/x-python",
   "name": "python",
   "nbconvert_exporter": "python",
   "pygments_lexer": "ipython3",
   "version": "3.11.3"
  },
  "orig_nbformat": 4
 },
 "nbformat": 4,
 "nbformat_minor": 2
}
