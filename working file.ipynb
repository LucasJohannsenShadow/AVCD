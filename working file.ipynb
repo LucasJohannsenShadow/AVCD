{
 "cells": [
  {
   "attachments": {},
   "cell_type": "markdown",
   "metadata": {},
   "source": [
    "Working file for Goup Project "
   ]
  },
  {
   "attachments": {},
   "cell_type": "markdown",
   "metadata": {},
   "source": [
    "Data\n",
    "-   https://www.fao.org/faostat/en/#data/QCL\n",
    "-   \n",
    "-   "
   ]
  },
  {
   "attachments": {},
   "cell_type": "markdown",
   "metadata": {},
   "source": [
    "Importing all libarys "
   ]
  },
  {
   "cell_type": "code",
   "execution_count": 1,
   "metadata": {},
   "outputs": [],
   "source": [
    "import pandas as pd\n",
    "import numpy as np\n",
    "import zipfile\n",
    "import seaborn as sns # For plotting\n",
    "import matplotlib.pyplot as plt # For showing plots\n",
    "import scipy.stats as sts\n",
    "import scikit_posthocs as sp\n",
    "import statsmodels.stats as stm\n",
    "from statsmodels.graphics.gofplots import qqplot\n"
   ]
  },
  {
   "attachments": {},
   "cell_type": "markdown",
   "metadata": {},
   "source": [
    "Import of data sets "
   ]
  },
  {
   "cell_type": "code",
   "execution_count": 15,
   "metadata": {},
   "outputs": [],
   "source": [
    "df = pd.read_csv(\"data/Production_Crops_Livestock_E_All_Data.csv\", encoding='latin-1')"
   ]
  },
  {
   "attachments": {},
   "cell_type": "markdown",
   "metadata": {},
   "source": [
    "Cleaning the Dataset \"Production\" "
   ]
  },
  {
   "cell_type": "code",
   "execution_count": 47,
   "metadata": {},
   "outputs": [
    {
     "data": {
      "text/html": [
       "<div>\n",
       "<style scoped>\n",
       "    .dataframe tbody tr th:only-of-type {\n",
       "        vertical-align: middle;\n",
       "    }\n",
       "\n",
       "    .dataframe tbody tr th {\n",
       "        vertical-align: top;\n",
       "    }\n",
       "\n",
       "    .dataframe thead th {\n",
       "        text-align: right;\n",
       "    }\n",
       "</style>\n",
       "<table border=\"1\" class=\"dataframe\">\n",
       "  <thead>\n",
       "    <tr style=\"text-align: right;\">\n",
       "      <th></th>\n",
       "      <th>Area</th>\n",
       "      <th>Item</th>\n",
       "      <th>Element</th>\n",
       "      <th>Unit</th>\n",
       "      <th>Year</th>\n",
       "      <th>Value</th>\n",
       "    </tr>\n",
       "  </thead>\n",
       "  <tbody>\n",
       "    <tr>\n",
       "      <th>0</th>\n",
       "      <td>Afghanistan</td>\n",
       "      <td>Apples</td>\n",
       "      <td>Area harvested</td>\n",
       "      <td>ha</td>\n",
       "      <td>Y1961</td>\n",
       "      <td>2220.00</td>\n",
       "    </tr>\n",
       "    <tr>\n",
       "      <th>1</th>\n",
       "      <td>Afghanistan</td>\n",
       "      <td>Apples</td>\n",
       "      <td>Yield</td>\n",
       "      <td>hg/ha</td>\n",
       "      <td>Y1961</td>\n",
       "      <td>68018.00</td>\n",
       "    </tr>\n",
       "    <tr>\n",
       "      <th>2</th>\n",
       "      <td>Afghanistan</td>\n",
       "      <td>Apples</td>\n",
       "      <td>Production</td>\n",
       "      <td>tonnes</td>\n",
       "      <td>Y1961</td>\n",
       "      <td>15100.00</td>\n",
       "    </tr>\n",
       "    <tr>\n",
       "      <th>3</th>\n",
       "      <td>Afghanistan</td>\n",
       "      <td>Apricots</td>\n",
       "      <td>Area harvested</td>\n",
       "      <td>ha</td>\n",
       "      <td>Y1961</td>\n",
       "      <td>4820.00</td>\n",
       "    </tr>\n",
       "    <tr>\n",
       "      <th>4</th>\n",
       "      <td>Afghanistan</td>\n",
       "      <td>Apricots</td>\n",
       "      <td>Yield</td>\n",
       "      <td>hg/ha</td>\n",
       "      <td>Y1961</td>\n",
       "      <td>66390.00</td>\n",
       "    </tr>\n",
       "    <tr>\n",
       "      <th>...</th>\n",
       "      <td>...</td>\n",
       "      <td>...</td>\n",
       "      <td>...</td>\n",
       "      <td>...</td>\n",
       "      <td>...</td>\n",
       "      <td>...</td>\n",
       "    </tr>\n",
       "    <tr>\n",
       "      <th>1772777</th>\n",
       "      <td>Zimbabwe</td>\n",
       "      <td>Sugar Crops Primary</td>\n",
       "      <td>Yield</td>\n",
       "      <td>hg/ha</td>\n",
       "      <td>Y2021</td>\n",
       "      <td>734043.00</td>\n",
       "    </tr>\n",
       "    <tr>\n",
       "      <th>1772778</th>\n",
       "      <td>Zimbabwe</td>\n",
       "      <td>Sugar Crops Primary</td>\n",
       "      <td>Production</td>\n",
       "      <td>tonnes</td>\n",
       "      <td>Y2021</td>\n",
       "      <td>3450000.00</td>\n",
       "    </tr>\n",
       "    <tr>\n",
       "      <th>1772779</th>\n",
       "      <td>Zimbabwe</td>\n",
       "      <td>Vegetables Primary</td>\n",
       "      <td>Area harvested</td>\n",
       "      <td>ha</td>\n",
       "      <td>Y2021</td>\n",
       "      <td>35148.00</td>\n",
       "    </tr>\n",
       "    <tr>\n",
       "      <th>1772780</th>\n",
       "      <td>Zimbabwe</td>\n",
       "      <td>Vegetables Primary</td>\n",
       "      <td>Yield</td>\n",
       "      <td>hg/ha</td>\n",
       "      <td>Y2021</td>\n",
       "      <td>66770.00</td>\n",
       "    </tr>\n",
       "    <tr>\n",
       "      <th>1772781</th>\n",
       "      <td>Zimbabwe</td>\n",
       "      <td>Vegetables Primary</td>\n",
       "      <td>Production</td>\n",
       "      <td>tonnes</td>\n",
       "      <td>Y2021</td>\n",
       "      <td>234679.67</td>\n",
       "    </tr>\n",
       "  </tbody>\n",
       "</table>\n",
       "<p>1772782 rows × 6 columns</p>\n",
       "</div>"
      ],
      "text/plain": [
       "                Area                 Item         Element    Unit   Year   \n",
       "0        Afghanistan               Apples  Area harvested      ha  Y1961  \\\n",
       "1        Afghanistan               Apples           Yield   hg/ha  Y1961   \n",
       "2        Afghanistan               Apples      Production  tonnes  Y1961   \n",
       "3        Afghanistan             Apricots  Area harvested      ha  Y1961   \n",
       "4        Afghanistan             Apricots           Yield   hg/ha  Y1961   \n",
       "...              ...                  ...             ...     ...    ...   \n",
       "1772777     Zimbabwe  Sugar Crops Primary           Yield   hg/ha  Y2021   \n",
       "1772778     Zimbabwe  Sugar Crops Primary      Production  tonnes  Y2021   \n",
       "1772779     Zimbabwe   Vegetables Primary  Area harvested      ha  Y2021   \n",
       "1772780     Zimbabwe   Vegetables Primary           Yield   hg/ha  Y2021   \n",
       "1772781     Zimbabwe   Vegetables Primary      Production  tonnes  Y2021   \n",
       "\n",
       "              Value  \n",
       "0           2220.00  \n",
       "1          68018.00  \n",
       "2          15100.00  \n",
       "3           4820.00  \n",
       "4          66390.00  \n",
       "...             ...  \n",
       "1772777   734043.00  \n",
       "1772778  3450000.00  \n",
       "1772779    35148.00  \n",
       "1772780    66770.00  \n",
       "1772781   234679.67  \n",
       "\n",
       "[1772782 rows x 6 columns]"
      ]
     },
     "execution_count": 47,
     "metadata": {},
     "output_type": "execute_result"
    }
   ],
   "source": [
    "df2 = df.dropna(how = 'any') # removing all missing data \n",
    "df2 = df2[df2[\"Area Code\"]<1000] # removing the summerised Areas (Africa as a hole etc.)\n",
    "df2 = df2.drop([\"Area Code\", \"Area Code (M49)\",\"Item Code (CPC)\" ,\"Item Code\", \"Element Code\"], axis=1) # removing not used collums\n",
    "df2 = df2.drop(df2.columns[df2.columns.str.endswith('F')], axis=1) # removing all collums wich say how the data was collectet. Big loss of information!! \n",
    "df2 = pd.melt(df2, id_vars=['Area', \"Item\", \"Element\", \"Unit\"], var_name='Year', value_name='Value') # reshaping the df to create a single year collum \n",
    "df2['Year'] = df2['Year'].str[1:] # removin the letter of befor the years\n",
    "df2 "
   ]
  }
 ],
 "metadata": {
  "kernelspec": {
   "display_name": "Pythonuse",
   "language": "python",
   "name": "python3"
  },
  "language_info": {
   "codemirror_mode": {
    "name": "ipython",
    "version": 3
   },
   "file_extension": ".py",
   "mimetype": "text/x-python",
   "name": "python",
   "nbconvert_exporter": "python",
   "pygments_lexer": "ipython3",
   "version": "3.11.3"
  },
  "orig_nbformat": 4
 },
 "nbformat": 4,
 "nbformat_minor": 2
}
